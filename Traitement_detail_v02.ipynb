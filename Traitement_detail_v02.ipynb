{
 "cells": [
  {
   "cell_type": "markdown",
   "metadata": {},
   "source": [
    "# Script to predict the field of the offers by looking through the text.\n",
    "\n",
    "Required libraries."
   ]
  },
  {
   "cell_type": "code",
   "execution_count": 1,
   "metadata": {},
   "outputs": [
    {
     "name": "stderr",
     "output_type": "stream",
     "text": [
      "[nltk_data] Downloading package punkt to\n",
      "[nltk_data]     C:\\Users\\tboug\\AppData\\Roaming\\nltk_data...\n",
      "[nltk_data]   Package punkt is already up-to-date!\n",
      "[nltk_data] Downloading package averaged_perceptron_tagger to\n",
      "[nltk_data]     C:\\Users\\tboug\\AppData\\Roaming\\nltk_data...\n",
      "[nltk_data]   Package averaged_perceptron_tagger is already up-to-\n",
      "[nltk_data]       date!\n",
      "[nltk_data] Downloading package wordnet to\n",
      "[nltk_data]     C:\\Users\\tboug\\AppData\\Roaming\\nltk_data...\n",
      "[nltk_data]   Package wordnet is already up-to-date!\n",
      "[nltk_data] Downloading package stopwords to\n",
      "[nltk_data]     C:\\Users\\tboug\\AppData\\Roaming\\nltk_data...\n",
      "[nltk_data]   Package stopwords is already up-to-date!\n"
     ]
    }
   ],
   "source": [
    "import pandas as pd\n",
    "import numpy as np\n",
    "\n",
    "import seaborn as sns\n",
    "import matplotlib.pyplot as plt\n",
    "\n",
    "#for text pre-processing\n",
    "import re, string\n",
    "import nltk\n",
    "from nltk.tokenize import word_tokenize\n",
    "from nltk.corpus import stopwords\n",
    "from nltk.tokenize import word_tokenize\n",
    "from nltk.stem import SnowballStemmer\n",
    "from nltk.corpus import wordnet\n",
    "from nltk.stem import WordNetLemmatizer\n",
    "\n",
    "nltk.download('punkt')\n",
    "nltk.download('averaged_perceptron_tagger')\n",
    "nltk.download('wordnet')\n",
    "nltk.download('stopwords')\n",
    "\n",
    "#for model-building\n",
    "from sklearn.model_selection import train_test_split\n",
    "from sklearn.linear_model import LogisticRegression\n",
    "from sklearn.linear_model import SGDClassifier\n",
    "from sklearn.naive_bayes import MultinomialNB\n",
    "from sklearn.metrics import classification_report, f1_score, accuracy_score, confusion_matrix\n",
    "from sklearn.metrics import roc_curve, auc, roc_auc_score\n",
    "\n",
    "# bag of words\n",
    "from sklearn.feature_extraction.text import TfidfVectorizer\n",
    "from sklearn.feature_extraction.text import CountVectorizer\n",
    "\n",
    "#for word embedding\n",
    "import gensim\n",
    "from gensim.models import Word2Vec #Word2Vec is mostly used for huge datasets"
   ]
  },
  {
   "cell_type": "markdown",
   "metadata": {},
   "source": [
    "The txt_file file is a training file useful to develop the script (!!! We have to manually complete it !!!).\n",
    "\n",
    "We open it and change the content into a Dataframe with the text and the corresponding class."
   ]
  },
  {
   "cell_type": "code",
   "execution_count": 2,
   "metadata": {},
   "outputs": [
    {
     "data": {
      "text/html": [
       "<div>\n",
       "<style scoped>\n",
       "    .dataframe tbody tr th:only-of-type {\n",
       "        vertical-align: middle;\n",
       "    }\n",
       "\n",
       "    .dataframe tbody tr th {\n",
       "        vertical-align: top;\n",
       "    }\n",
       "\n",
       "    .dataframe thead th {\n",
       "        text-align: right;\n",
       "    }\n",
       "</style>\n",
       "<table border=\"1\" class=\"dataframe\">\n",
       "  <thead>\n",
       "    <tr style=\"text-align: right;\">\n",
       "      <th></th>\n",
       "      <th>Text</th>\n",
       "      <th>Class</th>\n",
       "    </tr>\n",
       "  </thead>\n",
       "  <tbody>\n",
       "    <tr>\n",
       "      <td>0</td>\n",
       "      <td>- Nom et adresse officiels de l'organisme ache...</td>\n",
       "      <td>Assurance</td>\n",
       "    </tr>\n",
       "    <tr>\n",
       "      <td>1</td>\n",
       "      <td>\\n- Nom et adresse officiels de l'organisme ac...</td>\n",
       "      <td>Management</td>\n",
       "    </tr>\n",
       "    <tr>\n",
       "      <td>2</td>\n",
       "      <td>\\n- Nom et adresse officiels de l'organisme ac...</td>\n",
       "      <td>Restauration</td>\n",
       "    </tr>\n",
       "    <tr>\n",
       "      <td>3</td>\n",
       "      <td>\\n- Nom et adresse officiels de l'organisme ac...</td>\n",
       "      <td>Construction</td>\n",
       "    </tr>\n",
       "    <tr>\n",
       "      <td>4</td>\n",
       "      <td>\\n- Nom et adresse officiels de l'organisme ac...</td>\n",
       "      <td>Assurance</td>\n",
       "    </tr>\n",
       "  </tbody>\n",
       "</table>\n",
       "</div>"
      ],
      "text/plain": [
       "                                                Text         Class\n",
       "0  - Nom et adresse officiels de l'organisme ache...     Assurance\n",
       "1  \\n- Nom et adresse officiels de l'organisme ac...    Management\n",
       "2  \\n- Nom et adresse officiels de l'organisme ac...  Restauration\n",
       "3  \\n- Nom et adresse officiels de l'organisme ac...  Construction\n",
       "4  \\n- Nom et adresse officiels de l'organisme ac...     Assurance"
      ]
     },
     "execution_count": 2,
     "metadata": {},
     "output_type": "execute_result"
    }
   ],
   "source": [
    "txt_file = 'Details.txt'\n",
    "\n",
    "with open(txt_file, encoding = 'utf-8') as f:\n",
    "    txt=f.read()\n",
    "txt=txt.split(';;;')\n",
    "\n",
    "txt=np.reshape(txt,(int(len(txt)/2),2))\n",
    "df_txt=pd.DataFrame(txt,columns=['Text','Class'])\n",
    "df_txt.head()"
   ]
  },
  {
   "cell_type": "markdown",
   "metadata": {},
   "source": [
    "Display the different classes and their number of apparition."
   ]
  },
  {
   "cell_type": "code",
   "execution_count": 3,
   "metadata": {},
   "outputs": [
    {
     "name": "stdout",
     "output_type": "stream",
     "text": [
      "Construction         5\n",
      "Genie civil          4\n",
      "Assurance            3\n",
      "Energie              2\n",
      "Achat                2\n",
      "Developpement web    1\n",
      "Restauration         1\n",
      "Vente                1\n",
      "Menuiserie           1\n",
      "Location             1\n",
      "Management           1\n",
      "Chimie               1\n",
      "Name: Class, dtype: int64\n"
     ]
    },
    {
     "data": {
      "image/png": "[encoded data removed]",
      "text/plain": [
       "<Figure size 720x360 with 1 Axes>"
      ]
     },
     "metadata": {
      "needs_background": "dark"
     },
     "output_type": "display_data"
    }
   ],
   "source": [
    "# CLASS DISTRIBUTION\n",
    "#if dataset is balanced or not\n",
    "fig,ax=plt.subplots(figsize=(10,5))\n",
    "x=df_txt.Class.value_counts()\n",
    "print(x)\n",
    "sns.barplot(x.index,x,ax=ax)\n",
    "ax.tick_params(colors='white')"
   ]
  },
  {
   "cell_type": "markdown",
   "metadata": {},
   "source": [
    "Checking the missing values (there's none in the manually filled file)."
   ]
  },
  {
   "cell_type": "code",
   "execution_count": 4,
   "metadata": {},
   "outputs": [
    {
     "data": {
      "text/plain": [
       "Text     0\n",
       "Class    0\n",
       "dtype: int64"
      ]
     },
     "execution_count": 4,
     "metadata": {},
     "output_type": "execute_result"
    }
   ],
   "source": [
    "#Missing values\n",
    "df_txt.isna().sum()"
   ]
  },
  {
   "cell_type": "markdown",
   "metadata": {},
   "source": [
    "Check the mean number of words, character and unique word in the texts."
   ]
  },
  {
   "cell_type": "code",
   "execution_count": 5,
   "metadata": {},
   "outputs": [
    {
     "name": "stdout",
     "output_type": "stream",
     "text": [
      "979.2\n",
      "915.7222222222222\n",
      "1234.0\n",
      "865.421052631579\n",
      "761.6666666666666\n",
      "954.7\n",
      "315.5\n",
      "988.0\n",
      "942.5\n",
      "928.2857142857143\n",
      "1762.0\n",
      "891.6818181818181\n",
      "1647.0\n",
      "896.9090909090909\n",
      "1142.0\n",
      "919.8636363636364\n",
      "377.0\n",
      "954.6363636363636\n",
      "502.0\n",
      "948.9545454545455\n",
      "602.0\n",
      "944.4090909090909\n",
      "714.0\n",
      "939.3181818181819\n",
      "6600.6\n",
      "6379.944444444444\n",
      "8767.0\n",
      "5935.473684210527\n",
      "5282.0\n",
      "6599.8\n",
      "2254.0\n",
      "6825.428571428572\n",
      "6593.0\n",
      "6412.190476190476\n",
      "12086.0\n",
      "6170.727272727273\n",
      "11060.0\n",
      "6217.363636363636\n",
      "7714.0\n",
      "6369.454545454545\n",
      "2592.0\n",
      "6602.272727272727\n",
      "3519.0\n",
      "6560.136363636364\n",
      "4345.0\n",
      "6522.590909090909\n",
      "4915.0\n",
      "6496.681818181818\n",
      "483.8\n",
      "430.0\n",
      "548.0\n",
      "419.3157894736842\n",
      "392.0\n",
      "449.15\n",
      "194.5\n",
      "465.23809523809524\n",
      "441.5\n",
      "441.7142857142857\n",
      "799.0\n",
      "425.45454545454544\n",
      "726.0\n",
      "428.77272727272725\n",
      "532.0\n",
      "437.59090909090907\n",
      "222.0\n",
      "451.6818181818182\n",
      "249.0\n",
      "450.45454545454544\n",
      "234.0\n",
      "451.1363636363636\n",
      "338.0\n",
      "446.40909090909093\n"
     ]
    }
   ],
   "source": [
    "#1. WORD-COUNT\n",
    "df_txt['word_count'] = df_txt['Text'].apply(lambda x: len(str(x).split()))\n",
    "for i in df_txt.Class.value_counts().index:\n",
    "    print(df_txt[df_txt.Class==i]['word_count'].mean())\n",
    "    print(df_txt[df_txt.Class!=i]['word_count'].mean())\n",
    "\n",
    "#2. CHARACTER-COUNT\n",
    "df_txt['char_count'] = df_txt['Text'].apply(lambda x: len(str(x)))\n",
    "for i in df_txt.Class.value_counts().index:\n",
    "    print(df_txt[df_txt.Class==i]['char_count'].mean())\n",
    "    print(df_txt[df_txt.Class!=i]['char_count'].mean())\n",
    "\n",
    "#3. UNIQUE WORD-COUNT\n",
    "df_txt['unique_word_count'] = df_txt['Text'].apply(lambda x: len(set(str(x).split())))\n",
    "for i in df_txt.Class.value_counts().index:\n",
    "    print(df_txt[df_txt.Class==i]['unique_word_count'].mean())\n",
    "    print(df_txt[df_txt.Class!=i]['unique_word_count'].mean())"
   ]
  },
  {
   "cell_type": "markdown",
   "metadata": {},
   "source": [
    "Plot of the number of text in function of the number of words for each class."
   ]
  },
  {
   "cell_type": "code",
   "execution_count": 6,
   "metadata": {},
   "outputs": [
    {
     "data": {
      "image/png": "[encoded data removed]",
      "text/plain": [
       "<Figure size 720x504 with 4 Axes>"
      ]
     },
     "metadata": {
      "needs_background": "light"
     },
     "output_type": "display_data"
    }
   ],
   "source": [
    "#Plotting word-count per tweet\n",
    "fig,ax=plt.subplots(2,2,figsize=(10,7))\n",
    "\n",
    "train_words=df_txt[df_txt['Class']==df_txt.Class.value_counts().index[0]]['word_count']\n",
    "ax[0,0].hist(train_words,color='red')\n",
    "ax[0,0].set_title(df_txt.Class.value_counts().index[0])\n",
    "ax[0,0].tick_params(colors='red')\n",
    "\n",
    "train_words=df_txt[df_txt['Class']==df_txt.Class.value_counts().index[1]]['word_count']\n",
    "ax[0,1].hist(train_words,color='green')\n",
    "ax[0,1].set_title(df_txt.Class.value_counts().index[1])\n",
    "ax[0,1].tick_params(colors='green')\n",
    "\n",
    "train_words=df_txt[df_txt['Class']==df_txt.Class.value_counts().index[2]]['word_count']\n",
    "ax[1,0].hist(train_words,color='blue')\n",
    "ax[1,0].set_title(df_txt.Class.value_counts().index[2])\n",
    "ax[1,0].tick_params(colors='blue')\n",
    "\n",
    "#train_words=df_txt[df_txt['Class']==df_txt.Class.value_counts().index[3]]['word_count']\n",
    "#ax[1,1].hist(train_words,color='orange')\n",
    "#ax[1,1].set_title(df_txt.Class.value_counts().index[3])\n",
    "#ax[1,1].tick_params(colors='orange')\n",
    "\n",
    "fig.suptitle('Words per text')\n",
    "plt.show()"
   ]
  },
  {
   "cell_type": "markdown",
   "metadata": {},
   "source": [
    "Cleaning of the text from unrequired symbols."
   ]
  },
  {
   "cell_type": "code",
   "execution_count": 7,
   "metadata": {},
   "outputs": [
    {
     "name": "stdout",
     "output_type": "stream",
     "text": [
      "this is a message to be cleaned it may involve some things like adjacent spaces and tabs\n"
     ]
    }
   ],
   "source": [
    "#1. Common text preprocessing\n",
    "text = \"   This is a message to be cleaned. It may involve some things like: <br>, ?, :, ''  adjacent spaces and tabs     .  \"\n",
    "\n",
    "#convert to lowercase and remove punctuations and characters and then strip\n",
    "def preprocess(text):\n",
    "    text = text.lower() #lowercase text\n",
    "    text=text.strip()  #get rid of leading/trailing whitespace \n",
    "    text=re.compile('<.*?>').sub('', text) #Remove HTML tags/markups\n",
    "    text = re.compile('[%s]' % re.escape(string.punctuation)).sub(' ', text)  #Replace punctuation with space. Careful since punctuation can sometime be useful\n",
    "    text = re.sub('\\s+', ' ', text)  #Remove extra space and tabs\n",
    "    text = re.sub(r'\\[[0-9]*\\]',' ',text) #[0-9] matches any digit (0 to 10000...)\n",
    "    text=re.sub(r'[^\\w\\s]', '', str(text).lower().strip())\n",
    "    text = re.sub(r'\\d',' ',text) #matches any digit from 0 to 100000..., \\D matches non-digits\n",
    "    text = re.sub(r'\\s+',' ',text) #\\s matches any whitespace, \\s+ matches multiple whitespace, \\S matches non-whitespace \n",
    "    \n",
    "    return text\n",
    "\n",
    "text=preprocess(text)\n",
    "print(text)  #text is a string"
   ]
  },
  {
   "cell_type": "markdown",
   "metadata": {},
   "source": [
    "Cleaning of the text from useless words."
   ]
  },
  {
   "cell_type": "code",
   "execution_count": 8,
   "metadata": {},
   "outputs": [
    {
     "name": "stdout",
     "output_type": "stream",
     "text": [
      "this is a message to be cleaned it may involve some things like adjacent spaces and tabs\n",
      "this is a messag to be cleaned it may involv som thing lik adjacent spac and tab\n",
      "this be a messag to be clean it may involv som thing lik adjacent spac and tab\n"
     ]
    }
   ],
   "source": [
    "#3. LEXICON-BASED TEXT PROCESSING EXAMPLES\n",
    " \n",
    "#1. STOPWORD REMOVAL\n",
    "def stopword(string):\n",
    "    a= [i for i in string.split() if i not in stopwords.words('french')]\n",
    "    return ' '.join(a)\n",
    "\n",
    "text=stopword(text)\n",
    "print(text)\n",
    "\n",
    "#2. STEMMING\n",
    " \n",
    "# Initialize the stemmer\n",
    "snow = SnowballStemmer('french')\n",
    "def stemming(string):\n",
    "    a=[snow.stem(i) for i in word_tokenize(string) ]\n",
    "    return \" \".join(a)\n",
    "text=stemming(text)\n",
    "print(text)\n",
    "\n",
    "#3. LEMMATIZATION\n",
    "# Initialize the lemmatizer\n",
    "wl = WordNetLemmatizer()\n",
    " \n",
    "# This is a helper function to map NTLK position tags\n",
    "# Full list is available here: https://www.ling.upenn.edu/courses/Fall_2003/ling001/penn_treebank_pos.html\n",
    "def get_wordnet_pos(tag):\n",
    "    if tag.startswith('J'):\n",
    "        return wordnet.ADJ\n",
    "    elif tag.startswith('V'):\n",
    "        return wordnet.VERB\n",
    "    elif tag.startswith('N'):\n",
    "        return wordnet.NOUN\n",
    "    elif tag.startswith('R'):\n",
    "        return wordnet.ADV\n",
    "    else:\n",
    "        return wordnet.NOUN\n",
    "\n",
    "# Tokenize the sentence\n",
    "def lemmatizer(string):\n",
    "    word_pos_tags = nltk.pos_tag(word_tokenize(string)) # Get position tags\n",
    "    a=[wl.lemmatize(tag[0], get_wordnet_pos(tag[1])) for idx, tag in enumerate(word_pos_tags)] # Map the position tag and lemmatize the word/token\n",
    "    return \" \".join(a)\n",
    "\n",
    "text = lemmatizer(text)\n",
    "print(text)"
   ]
  },
  {
   "cell_type": "markdown",
   "metadata": {},
   "source": [
    "Cleaning of all the texts with the previous function and dropping the counting columns (!!! try to include them in the predicting model !!!)."
   ]
  },
  {
   "cell_type": "code",
   "execution_count": 9,
   "metadata": {},
   "outputs": [
    {
     "data": {
      "text/html": [
       "<div>\n",
       "<style scoped>\n",
       "    .dataframe tbody tr th:only-of-type {\n",
       "        vertical-align: middle;\n",
       "    }\n",
       "\n",
       "    .dataframe tbody tr th {\n",
       "        vertical-align: top;\n",
       "    }\n",
       "\n",
       "    .dataframe thead th {\n",
       "        text-align: right;\n",
       "    }\n",
       "</style>\n",
       "<table border=\"1\" class=\"dataframe\">\n",
       "  <thead>\n",
       "    <tr style=\"text-align: right;\">\n",
       "      <th></th>\n",
       "      <th>Text</th>\n",
       "      <th>Class</th>\n",
       "      <th>clean_text</th>\n",
       "    </tr>\n",
       "  </thead>\n",
       "  <tbody>\n",
       "    <tr>\n",
       "      <td>0</td>\n",
       "      <td>- Nom et adresse officiels de l'organisme ache...</td>\n",
       "      <td>Assurance</td>\n",
       "      <td>nom adresse officiels organisme acheteur mairi...</td>\n",
       "    </tr>\n",
       "    <tr>\n",
       "      <td>1</td>\n",
       "      <td>\\n- Nom et adresse officiels de l'organisme ac...</td>\n",
       "      <td>Management</td>\n",
       "      <td>nom adresse officiels organisme acheteur maiso...</td>\n",
       "    </tr>\n",
       "    <tr>\n",
       "      <td>2</td>\n",
       "      <td>\\n- Nom et adresse officiels de l'organisme ac...</td>\n",
       "      <td>Restauration</td>\n",
       "      <td>nom adresse officiels organisme acheteur cnrs ...</td>\n",
       "    </tr>\n",
       "    <tr>\n",
       "      <td>3</td>\n",
       "      <td>\\n- Nom et adresse officiels de l'organisme ac...</td>\n",
       "      <td>Construction</td>\n",
       "      <td>nom adresse officiels organisme acheteur oph h...</td>\n",
       "    </tr>\n",
       "    <tr>\n",
       "      <td>4</td>\n",
       "      <td>\\n- Nom et adresse officiels de l'organisme ac...</td>\n",
       "      <td>Assurance</td>\n",
       "      <td>nom adresse officiels organisme acheteur ville...</td>\n",
       "    </tr>\n",
       "  </tbody>\n",
       "</table>\n",
       "</div>"
      ],
      "text/plain": [
       "                                                Text         Class  \\\n",
       "0  - Nom et adresse officiels de l'organisme ache...     Assurance   \n",
       "1  \\n- Nom et adresse officiels de l'organisme ac...    Management   \n",
       "2  \\n- Nom et adresse officiels de l'organisme ac...  Restauration   \n",
       "3  \\n- Nom et adresse officiels de l'organisme ac...  Construction   \n",
       "4  \\n- Nom et adresse officiels de l'organisme ac...     Assurance   \n",
       "\n",
       "                                          clean_text  \n",
       "0  nom adresse officiels organisme acheteur mairi...  \n",
       "1  nom adresse officiels organisme acheteur maiso...  \n",
       "2  nom adresse officiels organisme acheteur cnrs ...  \n",
       "3  nom adresse officiels organisme acheteur oph h...  \n",
       "4  nom adresse officiels organisme acheteur ville...  "
      ]
     },
     "execution_count": 9,
     "metadata": {},
     "output_type": "execute_result"
    }
   ],
   "source": [
    "#FINAL PREPROCESSING\n",
    "def finalpreprocess(string):\n",
    "    return lemmatizer(stopword(preprocess(string)))\n",
    "\n",
    "df_txt['clean_text'] = df_txt['Text'].apply(lambda x: finalpreprocess(x))\n",
    "df_txt=df_txt.drop(columns=['word_count','char_count','unique_word_count'])\n",
    "df_txt.head()"
   ]
  },
  {
   "cell_type": "markdown",
   "metadata": {},
   "source": [
    "Word2vec model creation."
   ]
  },
  {
   "cell_type": "code",
   "execution_count": 10,
   "metadata": {},
   "outputs": [
    {
     "name": "stderr",
     "output_type": "stream",
     "text": [
      "D:\\Python\\lib\\site-packages\\ipykernel_launcher.py:9: DeprecationWarning: Call to deprecated `syn0` (Attribute will be removed in 4.0.0, use self.vectors instead).\n",
      "  if __name__ == '__main__':\n"
     ]
    }
   ],
   "source": [
    "# create Word2vec model\n",
    "#here words_f should be a list containing words from each document. say 1st row of the list is words from the 1st document/sentence\n",
    "#length of words_f is number of documents/sentences in your dataset\n",
    "df_txt['clean_text_tok']=[nltk.word_tokenize(i) for i in df_txt['clean_text']] #convert preprocessed sentence to tokenized sentence\n",
    "model = Word2Vec(df_txt['clean_text_tok'],min_count=1)  #min_count=1 means word should be present at least across all documents,\n",
    "#if min_count=2 means if the word is present less than 2 times across all the documents then we shouldn't consider it\n",
    "\n",
    "\n",
    "w2v = dict(zip(model.wv.index2word, model.wv.syn0))  #combination of word and its vector\n",
    "\n",
    "#for converting sentence to vectors/numbers from word vectors result by Word2Vec\n",
    "class MeanEmbeddingVectorizer(object):\n",
    "    def __init__(self, word2vec):\n",
    "        self.word2vec = word2vec\n",
    "        # if a text is empty we should return a vector of zeros\n",
    "        # with the same dimensionality as all the other vectors\n",
    "        self.dim = len(next(iter(word2vec.values())))\n",
    "\n",
    "    def fit(self, X, y):\n",
    "        return self\n",
    "\n",
    "    def transform(self, X):\n",
    "        return np.array([\n",
    "            np.mean([self.word2vec[w] for w in words if w in self.word2vec]\n",
    "                    or [np.zeros(self.dim)], axis=0)\n",
    "            for words in X\n",
    "        ])"
   ]
  },
  {
   "cell_type": "markdown",
   "metadata": {},
   "source": [
    "# Application of the model on the dataset."
   ]
  },
  {
   "cell_type": "code",
   "execution_count": 11,
   "metadata": {},
   "outputs": [],
   "source": [
    "#SPLITTING THE TRAINING DATASET INTO TRAINING AND VALIDATION\n",
    " \n",
    "# Input: \"reviewText\", \"rating\" and \"time\"\n",
    "# Target: \"log_votes\"\n",
    "X_train, X_val, y_train, y_val = train_test_split(df_txt[\"clean_text\"],\n",
    "                                                  df_txt[\"Class\"],\n",
    "                                                  test_size=0.33,\n",
    "                                                  random_state = 711047,\n",
    "                                                  shuffle=True)\n",
    "X_train_tok= [nltk.word_tokenize(i) for i in X_train]  #for word2vec\n",
    "X_val_tok= [nltk.word_tokenize(i) for i in X_val]      #for word2vec\n",
    "\n",
    "#TF-IDF\n",
    "# Convert x_train to vector since model can only run on numbers and not words- Fit and transform\n",
    "tfidf_vectorizer = TfidfVectorizer(use_idf=True)\n",
    "X_train_vectors_tfidf = tfidf_vectorizer.fit_transform(X_train) #tfidf runs on non-tokenized sentences unlike word2vec\n",
    "# Only transform x_test (not fit and transform)\n",
    "X_val_vectors_tfidf = tfidf_vectorizer.transform(X_val) #Don't fit() your TfidfVectorizer to your test data: it will \n",
    "#change the word-indexes & weights to match test data. Rather, fit on the training data, then use the same train-data-\n",
    "#fit model on the test data, to reflect the fact you're analyzing the test data only based on what was learned without \n",
    "#it, and the have compatible\n",
    "\n",
    "\n",
    "#Word2vec\n",
    "# Fit and transform\n",
    "modelw = MeanEmbeddingVectorizer(w2v)\n",
    "X_train_vectors_w2v = modelw.transform(X_train_tok)\n",
    "X_val_vectors_w2v = modelw.transform(X_val_tok)"
   ]
  },
  {
   "cell_type": "markdown",
   "metadata": {},
   "source": [
    "Results."
   ]
  },
  {
   "cell_type": "code",
   "execution_count": 12,
   "metadata": {},
   "outputs": [
    {
     "name": "stdout",
     "output_type": "stream",
     "text": [
      "              precision    recall  f1-score   support\n",
      "\n",
      "       Achat       0.00      0.00      0.00         1\n",
      "   Assurance       0.00      0.00      0.00         2\n",
      "      Chimie       0.00      0.00      0.00         1\n",
      "Construction       0.50      1.00      0.67         1\n",
      "     Energie       0.00      0.00      0.00         1\n",
      " Genie civil       0.17      1.00      0.29         1\n",
      "Restauration       0.00      0.00      0.00         1\n",
      "\n",
      "    accuracy                           0.25         8\n",
      "   macro avg       0.10      0.29      0.14         8\n",
      "weighted avg       0.08      0.25      0.12         8\n",
      "\n",
      "Confusion Matrix: [[0 0 0 0 0 1 0]\n",
      " [0 0 0 1 0 1 0]\n",
      " [0 0 0 0 0 1 0]\n",
      " [0 0 0 1 0 0 0]\n",
      " [0 0 0 0 0 1 0]\n",
      " [0 0 0 0 0 1 0]\n",
      " [0 0 0 0 0 1 0]]\n"
     ]
    },
    {
     "name": "stderr",
     "output_type": "stream",
     "text": [
      "D:\\Python\\lib\\site-packages\\sklearn\\linear_model\\logistic.py:469: FutureWarning: Default multi_class will be changed to 'auto' in 0.22. Specify the multi_class option to silence this warning.\n",
      "  \"this warning.\", FutureWarning)\n",
      "D:\\Python\\lib\\site-packages\\sklearn\\metrics\\classification.py:1437: UndefinedMetricWarning: Precision and F-score are ill-defined and being set to 0.0 in labels with no predicted samples.\n",
      "  'precision', 'predicted', average, warn_for)\n"
     ]
    }
   ],
   "source": [
    "#FITTING THE CLASSIFICATION MODEL using Logistic Regression(tf-idf)\n",
    "\n",
    "lr_tfidf=LogisticRegression(solver = 'liblinear', C=10, penalty = 'l2')\n",
    "lr_tfidf.fit(X_train_vectors_tfidf, y_train)  #model\n",
    "\n",
    "#Predict y value for test dataset\n",
    "y_predict = lr_tfidf.predict(X_val_vectors_tfidf)\n",
    "y_prob = lr_tfidf.predict_proba(X_val_vectors_tfidf)[:,1]\n",
    " \n",
    "\n",
    "print(classification_report(y_val,y_predict))\n",
    "print('Confusion Matrix:',confusion_matrix(y_val, y_predict))"
   ]
  }
 ],
 "metadata": {
  "kernelspec": {
   "display_name": "Python 3",
   "language": "python",
   "name": "python3"
  },
  "language_info": {
   "codemirror_mode": {
    "name": "ipython",
    "version": 3
   },
   "file_extension": ".py",
   "mimetype": "text/x-python",
   "name": "python",
   "nbconvert_exporter": "python",
   "pygments_lexer": "ipython3",
   "version": "3.7.4"
  }
 },
 "nbformat": 4,
 "nbformat_minor": 2
}
